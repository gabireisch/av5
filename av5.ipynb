{
 "cells": [
  {
   "cell_type": "markdown",
   "metadata": {},
   "source": [
    "### Exercício 01\n",
    "\n",
    "![alt text](ex1.png)"
   ]
  },
  {
   "cell_type": "code",
   "execution_count": null,
   "metadata": {},
   "outputs": [],
   "source": []
  },
  {
   "cell_type": "markdown",
   "metadata": {},
   "source": [
    "### Exercício 02\n",
    "![alt text](ex2.png)"
   ]
  },
  {
   "cell_type": "code",
   "execution_count": null,
   "metadata": {},
   "outputs": [],
   "source": []
  },
  {
   "cell_type": "markdown",
   "metadata": {},
   "source": [
    "### Exercício 03\n",
    "![alt text](ex3.png)"
   ]
  },
  {
   "cell_type": "code",
   "execution_count": null,
   "metadata": {},
   "outputs": [],
   "source": []
  },
  {
   "cell_type": "markdown",
   "metadata": {},
   "source": [
    "### Exercício 04\n",
    "![alt text](ex4.png)"
   ]
  },
  {
   "cell_type": "code",
   "execution_count": null,
   "metadata": {},
   "outputs": [],
   "source": []
  },
  {
   "cell_type": "markdown",
   "metadata": {},
   "source": [
    "resposta do moodle:\n",
    "\n",
    "Introdução\n",
    "\n",
    "O modelo massa-mola é uma representação simplificada, porém eficaz, das interações atômicas em sólidos, onde massas simulam átomos e molas representam forças de ligação entre eles. Esse modelo permite estudar a propagação de vibrações e ondas mecânicas em sistemas discretos.\n",
    "\n",
    "Cadeias homogêneas, compostas por massas e molas idênticas, refletem materiais com estrutura uniforme. Já cadeias binárias, com alternância de massas e/ou molas, simulam materiais compostos e revelam fenômenos como bandas proibidas na propagação de ondas.\n",
    "\n",
    "As condições de contorno livres, onde as extremidades da cadeia não estão fixas, são importantes para representar sistemas físicos reais, como superfícies de cristais ou nanoestruturas. Elas influenciam diretamente os modos normais de vibração e permitem uma análise mais realista do comportamento dinâmico do sistema."
   ]
  }
 ],
 "metadata": {
  "language_info": {
   "name": "python"
  }
 },
 "nbformat": 4,
 "nbformat_minor": 2
}
